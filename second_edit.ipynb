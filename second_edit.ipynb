{
 "cells": [
  {
   "cell_type": "code",
   "execution_count": 81,
   "metadata": {},
   "outputs": [],
   "source": [
    "import fitz\n",
    "from haystack.components.builders import PromptBuilder\n",
    "from openai import OpenAI\n",
    "from env_params import openrouter_api_key\n",
    "import json\n",
    "from IPython.display import clear_output\n",
    "\n",
    "\n",
    "quiz_generation_template = \"\"\"Given the following text, create {{no_questions}} multiple choice quizzes in JSON format.\n",
    "Each question should have 4 different options, and only one of them should be correct.\n",
    "The questions should be {{question_level}}.\n",
    "Each question should increase in difficulty.\n",
    "Each question should be independent of the others.\n",
    "Each question should be based on the text provided.\n",
    "Each question should be clear and concise.\n",
    "The options should be unambiguous.\n",
    "Each option should begin with a letter followed by a period and a space (e.g., \"a. option\").\n",
    "The question should also briefly mention the general topic of the text so that it can be understood in isolation.\n",
    "Each question should not give hints to answer the other questions.\n",
    "Include challenging questions, which require reasoning.\n",
    "\n",
    "respond with JSON only, no markdown or descriptions.\n",
    "\n",
    "example JSON format you should absolutely follow:\n",
    "{\"topic\": \"a sentence explaining the topic of the text\",\n",
    " \"questions\":\n",
    "  [\n",
    "    {\n",
    "      \"question\": \"text of the question\",\n",
    "      \"options\": [\"a. 1st option\", \"b. 2nd option\", \"c. 3rd option\", \"d. 4th option\"],\n",
    "      \"right_option\": \"c\"  # letter of the right option (\"a\" for the first, \"b\" for the second, etc.)\n",
    "    }, ...\n",
    "  ]\n",
    "}\n",
    "\n",
    "\n",
    "text:\n",
    "{% for doc in documents %}{{ doc.content|truncate(1000000) }}{% endfor %}\n",
    "\"\"\"\n",
    "\n",
    "\n",
    "def get_question_level():\n",
    "    got_answer = False\n",
    "    while not got_answer:\n",
    "        try:\n",
    "            question_level = input(\"Enter the question level (easy (e), medium (m), hard (h)): \")\n",
    "            if question_level.lower() in ['easy','medium','hard','e','m','h']:\n",
    "                got_answer = True\n",
    "            else:\n",
    "                print(\"Please enter a valid question level\")\n",
    "        except ValueError:\n",
    "            print(\"Please enter a valid question level\")\n",
    "    if question_level.lower() == 'easy' or question_level.lower() == 'e':\n",
    "        question_level = \"easy\"\n",
    "    elif question_level.lower() == 'medium' or question_level.lower() == 'm':\n",
    "        question_level = \"medium\"\n",
    "    else:\n",
    "        question_level = \"hard\"\n",
    "    return question_level\n",
    "\n",
    "def read_pdf(pdf_path):\n",
    "    pdf_document = fitz.open(pdf_path)\n",
    "    text = \"\"\n",
    "    for page_number in range(len(pdf_document)):\n",
    "        page = pdf_document.load_page(page_number)\n",
    "        text += page.get_text()\n",
    "    return text\n",
    "\n",
    "def get_list_of_documents(documents_paths):\n",
    "    document_list = []\n",
    "    for document in documents_paths:\n",
    "        document_list.append({'content':read_pdf(document)})\n",
    "    return document_list\n",
    "\n",
    "def get_number_of_questions():\n",
    "    got_answer = False\n",
    "    while not got_answer:\n",
    "        try:\n",
    "            no_questions = int(input(\"Enter the number of questions: \"))\n",
    "            got_answer = True\n",
    "        except ValueError:\n",
    "            print(\"Please enter a number\")\n",
    "    return no_questions\n",
    "\n",
    "def get_path_for_documents():\n",
    "    got_answer = False\n",
    "    while not got_answer:\n",
    "        try:\n",
    "            documents_paths = input(\"Enter the path of the documents separated by a space: \").split()\n",
    "            got_answer = True\n",
    "        except ValueError:\n",
    "            print(\"Please enter a valid path\")\n",
    "    return documents_paths\n",
    "\n",
    "def create_prompt():\n",
    "    documents_paths = get_path_for_documents()\n",
    "    no_questions = get_number_of_questions()\n",
    "    question_level = get_question_level()\n",
    "    documents = get_list_of_documents(documents_paths)\n",
    "    builder = PromptBuilder(\n",
    "    template=quiz_generation_template,\n",
    "    required_variables=[\"documents\",\"no_questions\",\"question_level\"]\n",
    "    )\n",
    "    return builder.run(documents=documents, no_questions=no_questions, question_level=question_level)\n",
    "\n",
    "def call_openrouter(openrouter_api_key, prompt):\n",
    "    print(\"Please wait a few seconds for the response (average is 20 seconds)\")\n",
    "    client = OpenAI(\n",
    "    base_url=\"https://openrouter.ai/api/v1\",\n",
    "    api_key=openrouter_api_key,\n",
    "    )\n",
    "    completion = client.chat.completions.create(\n",
    "    model=\"deepseek/deepseek-r1-distill-llama-70b:free\",\n",
    "    messages=[\n",
    "        {\n",
    "        \"role\": \"user\",\n",
    "        \"content\": prompt['prompt']\n",
    "        }\n",
    "    ]\n",
    "    )\n",
    "    try:\n",
    "        return completion.choices[0].message.content.replace('```json','').replace('```','').replace('```','')\n",
    "    except:\n",
    "        return completion.choices[0].message.content\n",
    "\n",
    "import json\n",
    "def answer_questions(response):\n",
    "    correct_answer = 0\n",
    "    response = json.loads(response)\n",
    "    print(response['topic'])\n",
    "    for question in response['questions']:\n",
    "        applicable_options = [\"a\", \"b\", \"c\", \"d\"]\n",
    "        got_answer = False\n",
    "        while not got_answer:\n",
    "            print(question['question'])\n",
    "            for option in question['options']:\n",
    "                print(option)\n",
    "            answer = input(\"Enter the right option: \").lower()\n",
    "            if answer in applicable_options:\n",
    "                got_answer = True\n",
    "            else:\n",
    "                clear_output(wait = True)\n",
    "                print('',flush=True)\n",
    "                print(\"Please enter a valid option\")\n",
    "        clear_output(wait = True)\n",
    "        print('',flush=True)\n",
    "        if answer == question['right_option']:\n",
    "            print(\"Correct!\\n\")\n",
    "            correct_answer += 1\n",
    "        else:\n",
    "            print(f\"Wrong! The right option is {question['right_option']}\\n\")\n",
    "\n",
    "    \n",
    "    print(f\"Your score is {correct_answer}/{len(response['questions'])}\")"
   ]
  },
  {
   "cell_type": "code",
   "execution_count": 82,
   "metadata": {},
   "outputs": [
    {
     "name": "stdout",
     "output_type": "stream",
     "text": [
      "\n",
      "Wrong! The right option is b\n",
      "\n",
      "Your score is 4/11\n"
     ]
    }
   ],
   "source": [
    "prompt = create_prompt()\n",
    "response = call_openrouter(openrouter_api_key, prompt)\n",
    "answer_questions(response)\n",
    "\n"
   ]
  },
  {
   "cell_type": "code",
   "execution_count": 83,
   "metadata": {},
   "outputs": [
    {
     "name": "stdout",
     "output_type": "stream",
     "text": [
      "Négyzetgyökös egyenletek\n",
      "Mik azok a négyzetgyökös egyenletek?\n",
      "a. Olyan egyenletek, amelyekben az ismeretlen a négyzetgyök alatt szerepel\n",
      "b. Olyan egyenletek, amelyekben az ismeretlen a gyökvonás után szerepel\n",
      "c. Olyan egyenletek, amelyekben az ismeretlen a függvények között szerepel\n",
      "d. Olyan egyenletek, amelyekben az ismeretlen a logaritmusok között szerepel\n",
      "Correct!\n",
      "\n",
      "Mivel kell kiküszöbölni a négyzetgyökös egyenleteket?\n",
      "a. Négyzetre emeléssel\n",
      "b. Logaritmusokkal\n",
      "c. Függvényekkel\n",
      "d. Szorzással\n",
      "Correct!\n",
      "\n",
      "Melyik a szükséges lépés az egyenlet előtti kikötések meghatározásához?\n",
      "a. A négyzetgyök alatti kifejezésnek nemnegatívnak kell lennie\n",
      "b. A gyökvonás utáni kifejezésnek negatívnak kell lennie\n",
      "c. A gyökvonás utáni kifejezésnek nullának kell lennie\n",
      "d. A gyökvonás utáni kifejezésnek pozitívnak kell lennie\n",
      "Correct!\n",
      "\n",
      "Hogyan ellenőrizhetjük, hogy a gyök valóban megoldása az eredeti egyenletnek?\n",
      "a. Csak a kikötéseket kell meghatározni\n",
      "b. Az egyenlet mindkét oldalának négyzetre emelése\n",
      "c. A gyököt vissza kell helyettesíteni az eredeti egyenletbe\n",
      "d. A kikötések áthágása szükséges\n",
      "Correct!\n",
      "\n",
      "Mi a neve annak a folyamatnak, amikor kettőzetre emeljük az egyenlet mindkét oldalát?\n",
      "a. Négyzetre emelés\n",
      "b. Logaritmikus folyamat\n",
      "c. Faktorizálás\n",
      "d. Kétszeres ellenőrzés\n",
      "Correct!\n",
      "\n",
      "Hogyan oldjuk meg a következő egyenletet: √(x) = 3?\n",
      "a. Négyzetre emeljük mindkét oldalt, így x = 9\n",
      "b. Mindkét oldalt logaritmust vesszük, így x = 3\n",
      "c. A gyököt töröljük, így x = 9\n",
      "d. A gyököt helyettesítjük egy másik változóval\n",
      "Correct!\n",
      "\n",
      "Mi a helyes lépés az egyenlet √(x − 2) = 2 megoldásához?\n",
      "a. Meghatározni x kikötéseit\n",
      "b. Két oldal négyzetre emelése\n",
      "c. A gyököt törölni\n",
      "d. Minden lépés megtétele\n",
      "Correct!\n",
      "\n",
      "Hogyan ellenőrzünk egy ál megoldás érvényességét?\n",
      "a. Csak a kikötéseknek kell teljesülniük\n",
      "b. Az ál megoldást vissza helyettesítjük az eredeti egyenletbe\n",
      "c. A kikötéseket áthághatjuk\n",
      "d. Semmit nem kell ellenőrizni\n",
      "Wrong! The right option is b\n",
      "\n",
      "Mi lesz a helyes megoldás, ha az egyenlet √(x−1) = -3?\n",
      "a. x = 10\n",
      "b. x = 4\n",
      "c. x = 1\n",
      "d. Az egyenletnek nincs megoldása\n",
      "Wrong! The right option is d\n",
      "\n",
      "Hogyne mondjuk arra a folyamatra, amikor meghatározunk egy kikötést, mielőtt az egyenletet megoldjuk?\n",
      "a. Négyzetre emelés\n",
      "b. Kikötés meghatározása\n",
      "c. Gyök törlesztés\n",
      "d. Ellenőrzés\n",
      "Wrong! The right option is b\n",
      "\n",
      "Melyik a helyes lépés az egyenlet √(x−1) = 3 megoldásához?\n",
      "a. Ellenőrzés nélkül x=10 a válasz\n",
      "b. Négyzetre emelés és ellenőrzés\n",
      "c. Az egyenletet logaritmusokkal oldjuk meg\n",
      "d. A gyök törölve, x = 9\n",
      "Wrong! The right option is b\n",
      "\n",
      "Your score is 7/11\n"
     ]
    }
   ],
   "source": [
    "\n",
    "def answer_questions(response):\n",
    "    correct_answer = 0\n",
    "    response = json.loads(response)\n",
    "    print(response['topic'])\n",
    "    for question in response['questions']:\n",
    "        applicable_options = [\"a\", \"b\", \"c\", \"d\"]\n",
    "        got_answer = False\n",
    "        while not got_answer:\n",
    "            print(question['question'])\n",
    "            for option in question['options']:\n",
    "                print(option)\n",
    "            answer = input(\"Enter the right option: \").lower()\n",
    "            if answer in applicable_options:\n",
    "                got_answer = True\n",
    "            else:\n",
    "                #clear_output(wait = True)\n",
    "                #print('',flush=True)\n",
    "                print(\"Please enter a valid option\")\n",
    "        #clear_output(wait = True)\n",
    "        #print('',flush=True)\n",
    "        if answer == question['right_option']:\n",
    "            print(\"Correct!\\n\")\n",
    "            correct_answer += 1\n",
    "        else:\n",
    "            print(f\"Wrong! The right option is {question['right_option']}\\n\")\n",
    "\n",
    "    \n",
    "    print(f\"Your score is {correct_answer}/{len(response['questions'])}\")\n",
    "\n",
    "answer_questions(response)"
   ]
  },
  {
   "cell_type": "code",
   "execution_count": 84,
   "metadata": {},
   "outputs": [
    {
     "ename": "NameError",
     "evalue": "name 'no_questions' is not defined",
     "output_type": "error",
     "traceback": [
      "\u001b[31m---------------------------------------------------------------------------\u001b[39m",
      "\u001b[31mNameError\u001b[39m                                 Traceback (most recent call last)",
      "\u001b[36mCell\u001b[39m\u001b[36m \u001b[39m\u001b[32mIn[84]\u001b[39m\u001b[32m, line 1\u001b[39m\n\u001b[32m----> \u001b[39m\u001b[32m1\u001b[39m \u001b[43mno_questions\u001b[49m\n",
      "\u001b[31mNameError\u001b[39m: name 'no_questions' is not defined"
     ]
    }
   ],
   "source": [
    "no_questions"
   ]
  },
  {
   "cell_type": "code",
   "execution_count": null,
   "metadata": {},
   "outputs": [],
   "source": [
    "example_data/square_root.pdf example_data/Arithmetic_and_algebra.pdf"
   ]
  },
  {
   "cell_type": "code",
   "execution_count": 70,
   "metadata": {},
   "outputs": [
    {
     "ename": "JSONDecodeError",
     "evalue": "Expecting value: line 1 column 1 (char 0)",
     "output_type": "error",
     "traceback": [
      "\u001b[31m---------------------------------------------------------------------------\u001b[39m",
      "\u001b[31mJSONDecodeError\u001b[39m                           Traceback (most recent call last)",
      "\u001b[36mCell\u001b[39m\u001b[36m \u001b[39m\u001b[32mIn[70]\u001b[39m\u001b[32m, line 1\u001b[39m\n\u001b[32m----> \u001b[39m\u001b[32m1\u001b[39m \u001b[43mjson\u001b[49m\u001b[43m.\u001b[49m\u001b[43mloads\u001b[49m\u001b[43m(\u001b[49m\u001b[43mresponse\u001b[49m\u001b[43m.\u001b[49m\u001b[43mchoices\u001b[49m\u001b[43m[\u001b[49m\u001b[32;43m0\u001b[39;49m\u001b[43m]\u001b[49m\u001b[43m.\u001b[49m\u001b[43mmessage\u001b[49m\u001b[43m.\u001b[49m\u001b[43mcontent\u001b[49m\u001b[43m)\u001b[49m\u001b[38;5;66;03m#[-100:]\u001b[39;00m\n",
      "\u001b[36mFile \u001b[39m\u001b[32m~\\AppData\\Local\\Programs\\Python\\Python312\\Lib\\json\\__init__.py:346\u001b[39m, in \u001b[36mloads\u001b[39m\u001b[34m(s, cls, object_hook, parse_float, parse_int, parse_constant, object_pairs_hook, **kw)\u001b[39m\n\u001b[32m    341\u001b[39m     s = s.decode(detect_encoding(s), \u001b[33m'\u001b[39m\u001b[33msurrogatepass\u001b[39m\u001b[33m'\u001b[39m)\n\u001b[32m    343\u001b[39m \u001b[38;5;28;01mif\u001b[39;00m (\u001b[38;5;28mcls\u001b[39m \u001b[38;5;129;01mis\u001b[39;00m \u001b[38;5;28;01mNone\u001b[39;00m \u001b[38;5;129;01mand\u001b[39;00m object_hook \u001b[38;5;129;01mis\u001b[39;00m \u001b[38;5;28;01mNone\u001b[39;00m \u001b[38;5;129;01mand\u001b[39;00m\n\u001b[32m    344\u001b[39m         parse_int \u001b[38;5;129;01mis\u001b[39;00m \u001b[38;5;28;01mNone\u001b[39;00m \u001b[38;5;129;01mand\u001b[39;00m parse_float \u001b[38;5;129;01mis\u001b[39;00m \u001b[38;5;28;01mNone\u001b[39;00m \u001b[38;5;129;01mand\u001b[39;00m\n\u001b[32m    345\u001b[39m         parse_constant \u001b[38;5;129;01mis\u001b[39;00m \u001b[38;5;28;01mNone\u001b[39;00m \u001b[38;5;129;01mand\u001b[39;00m object_pairs_hook \u001b[38;5;129;01mis\u001b[39;00m \u001b[38;5;28;01mNone\u001b[39;00m \u001b[38;5;129;01mand\u001b[39;00m \u001b[38;5;129;01mnot\u001b[39;00m kw):\n\u001b[32m--> \u001b[39m\u001b[32m346\u001b[39m     \u001b[38;5;28;01mreturn\u001b[39;00m \u001b[43m_default_decoder\u001b[49m\u001b[43m.\u001b[49m\u001b[43mdecode\u001b[49m\u001b[43m(\u001b[49m\u001b[43ms\u001b[49m\u001b[43m)\u001b[49m\n\u001b[32m    347\u001b[39m \u001b[38;5;28;01mif\u001b[39;00m \u001b[38;5;28mcls\u001b[39m \u001b[38;5;129;01mis\u001b[39;00m \u001b[38;5;28;01mNone\u001b[39;00m:\n\u001b[32m    348\u001b[39m     \u001b[38;5;28mcls\u001b[39m = JSONDecoder\n",
      "\u001b[36mFile \u001b[39m\u001b[32m~\\AppData\\Local\\Programs\\Python\\Python312\\Lib\\json\\decoder.py:337\u001b[39m, in \u001b[36mJSONDecoder.decode\u001b[39m\u001b[34m(self, s, _w)\u001b[39m\n\u001b[32m    332\u001b[39m \u001b[38;5;28;01mdef\u001b[39;00m\u001b[38;5;250m \u001b[39m\u001b[34mdecode\u001b[39m(\u001b[38;5;28mself\u001b[39m, s, _w=WHITESPACE.match):\n\u001b[32m    333\u001b[39m \u001b[38;5;250m    \u001b[39m\u001b[33;03m\"\"\"Return the Python representation of ``s`` (a ``str`` instance\u001b[39;00m\n\u001b[32m    334\u001b[39m \u001b[33;03m    containing a JSON document).\u001b[39;00m\n\u001b[32m    335\u001b[39m \n\u001b[32m    336\u001b[39m \u001b[33;03m    \"\"\"\u001b[39;00m\n\u001b[32m--> \u001b[39m\u001b[32m337\u001b[39m     obj, end = \u001b[38;5;28;43mself\u001b[39;49m\u001b[43m.\u001b[49m\u001b[43mraw_decode\u001b[49m\u001b[43m(\u001b[49m\u001b[43ms\u001b[49m\u001b[43m,\u001b[49m\u001b[43m \u001b[49m\u001b[43midx\u001b[49m\u001b[43m=\u001b[49m\u001b[43m_w\u001b[49m\u001b[43m(\u001b[49m\u001b[43ms\u001b[49m\u001b[43m,\u001b[49m\u001b[43m \u001b[49m\u001b[32;43m0\u001b[39;49m\u001b[43m)\u001b[49m\u001b[43m.\u001b[49m\u001b[43mend\u001b[49m\u001b[43m(\u001b[49m\u001b[43m)\u001b[49m\u001b[43m)\u001b[49m\n\u001b[32m    338\u001b[39m     end = _w(s, end).end()\n\u001b[32m    339\u001b[39m     \u001b[38;5;28;01mif\u001b[39;00m end != \u001b[38;5;28mlen\u001b[39m(s):\n",
      "\u001b[36mFile \u001b[39m\u001b[32m~\\AppData\\Local\\Programs\\Python\\Python312\\Lib\\json\\decoder.py:355\u001b[39m, in \u001b[36mJSONDecoder.raw_decode\u001b[39m\u001b[34m(self, s, idx)\u001b[39m\n\u001b[32m    353\u001b[39m     obj, end = \u001b[38;5;28mself\u001b[39m.scan_once(s, idx)\n\u001b[32m    354\u001b[39m \u001b[38;5;28;01mexcept\u001b[39;00m \u001b[38;5;167;01mStopIteration\u001b[39;00m \u001b[38;5;28;01mas\u001b[39;00m err:\n\u001b[32m--> \u001b[39m\u001b[32m355\u001b[39m     \u001b[38;5;28;01mraise\u001b[39;00m JSONDecodeError(\u001b[33m\"\u001b[39m\u001b[33mExpecting value\u001b[39m\u001b[33m\"\u001b[39m, s, err.value) \u001b[38;5;28;01mfrom\u001b[39;00m\u001b[38;5;250m \u001b[39m\u001b[38;5;28;01mNone\u001b[39;00m\n\u001b[32m    356\u001b[39m \u001b[38;5;28;01mreturn\u001b[39;00m obj, end\n",
      "\u001b[31mJSONDecodeError\u001b[39m: Expecting value: line 1 column 1 (char 0)"
     ]
    }
   ],
   "source": [
    "json.loads(response.choices[0].message.content)#[-100:]"
   ]
  },
  {
   "cell_type": "code",
   "execution_count": null,
   "metadata": {},
   "outputs": [
    {
     "name": "stdout",
     "output_type": "stream",
     "text": [
      "```json\n",
      "{\n",
      "  \"topic\": \"Arithmetic and algebra concepts, including sets of numbers and intervals.\",\n",
      "  \"questions\": [\n",
      "    {\n",
      "      \"question\": \"Which of the following represents the set of irrational numbers?\",\n",
      "      \"options\": [\n",
      "        \"a. ℕ\",\n",
      "        \"b. ℤ\",\n",
      "        \"c. ℚ\",\n",
      "        \"d. ℚ∗\"\n",
      "      ],\n",
      "      \"right_option\": \"d\"\n",
      "    },\n",
      "    {\n",
      "      \"question\": \"Which notation represents a closed interval from a to b?\",\n",
      "      \"options\": [\n",
      "        \"a. (a, b)\",\n",
      "        \"b. [a, b)\",\n",
      "        \"c. [a, b]\",\n",
      "        \"d. (a, b]\"\n",
      "      ],\n",
      "      \"right_option\": \"c\"\n",
      "    }\n",
      "  ]\n",
      "}\n",
      "```\n"
     ]
    }
   ],
   "source": [
    "print(response.choices[0].message.content)\n",
    "response.choices[0].message.content.replace('```json','').replace('```','').replace('```','')\n",
    "```\n"
   ]
  },
  {
   "cell_type": "code",
   "execution_count": null,
   "metadata": {},
   "outputs": [
    {
     "name": "stdout",
     "output_type": "stream",
     "text": [
      "Please wait a few seconds for the response (average is 20 seconds)\n"
     ]
    }
   ],
   "source": []
  },
  {
   "cell_type": "code",
   "execution_count": 50,
   "metadata": {},
   "outputs": [],
   "source": [
    "#response_save = response.copy()#\n",
    "response = response.choices[0].message.content\n"
   ]
  },
  {
   "cell_type": "code",
   "execution_count": null,
   "metadata": {},
   "outputs": [],
   "source": [
    "list_of_easy_questions = []\n",
    "list_of_medium_questions = []\n",
    "list_of_hard_questions = []\n",
    "for i in json.loads(response):\n",
    "        list_of_easy_questions.append(i)"
   ]
  },
  {
   "cell_type": "code",
   "execution_count": null,
   "metadata": {},
   "outputs": [],
   "source": []
  },
  {
   "cell_type": "code",
   "execution_count": null,
   "metadata": {},
   "outputs": [
    {
     "ename": "JSONDecodeError",
     "evalue": "Expecting value: line 1 column 1 (char 0)",
     "output_type": "error",
     "traceback": [
      "\u001b[31m---------------------------------------------------------------------------\u001b[39m",
      "\u001b[31mJSONDecodeError\u001b[39m                           Traceback (most recent call last)",
      "\u001b[36mCell\u001b[39m\u001b[36m \u001b[39m\u001b[32mIn[52]\u001b[39m\u001b[32m, line 1\u001b[39m\n\u001b[32m----> \u001b[39m\u001b[32m1\u001b[39m \u001b[43manswer_questions\u001b[49m\u001b[43m(\u001b[49m\u001b[43mresponse\u001b[49m\u001b[43m)\u001b[49m\n",
      "\u001b[36mCell\u001b[39m\u001b[36m \u001b[39m\u001b[32mIn[51]\u001b[39m\u001b[32m, line 4\u001b[39m, in \u001b[36manswer_questions\u001b[39m\u001b[34m(response)\u001b[39m\n\u001b[32m      2\u001b[39m \u001b[38;5;28;01mdef\u001b[39;00m\u001b[38;5;250m \u001b[39m\u001b[34manswer_questions\u001b[39m(response):\n\u001b[32m      3\u001b[39m     correct_answer = \u001b[32m0\u001b[39m\n\u001b[32m----> \u001b[39m\u001b[32m4\u001b[39m     response = \u001b[43mjson\u001b[49m\u001b[43m.\u001b[49m\u001b[43mloads\u001b[49m\u001b[43m(\u001b[49m\u001b[43mresponse\u001b[49m\u001b[43m)\u001b[49m\n\u001b[32m      5\u001b[39m     \u001b[38;5;28mprint\u001b[39m(response[\u001b[33m'\u001b[39m\u001b[33mtopic\u001b[39m\u001b[33m'\u001b[39m])\n\u001b[32m      6\u001b[39m     \u001b[38;5;28;01mfor\u001b[39;00m question \u001b[38;5;129;01min\u001b[39;00m response[\u001b[33m'\u001b[39m\u001b[33mquestions\u001b[39m\u001b[33m'\u001b[39m]:\n",
      "\u001b[36mFile \u001b[39m\u001b[32m~\\AppData\\Local\\Programs\\Python\\Python312\\Lib\\json\\__init__.py:346\u001b[39m, in \u001b[36mloads\u001b[39m\u001b[34m(s, cls, object_hook, parse_float, parse_int, parse_constant, object_pairs_hook, **kw)\u001b[39m\n\u001b[32m    341\u001b[39m     s = s.decode(detect_encoding(s), \u001b[33m'\u001b[39m\u001b[33msurrogatepass\u001b[39m\u001b[33m'\u001b[39m)\n\u001b[32m    343\u001b[39m \u001b[38;5;28;01mif\u001b[39;00m (\u001b[38;5;28mcls\u001b[39m \u001b[38;5;129;01mis\u001b[39;00m \u001b[38;5;28;01mNone\u001b[39;00m \u001b[38;5;129;01mand\u001b[39;00m object_hook \u001b[38;5;129;01mis\u001b[39;00m \u001b[38;5;28;01mNone\u001b[39;00m \u001b[38;5;129;01mand\u001b[39;00m\n\u001b[32m    344\u001b[39m         parse_int \u001b[38;5;129;01mis\u001b[39;00m \u001b[38;5;28;01mNone\u001b[39;00m \u001b[38;5;129;01mand\u001b[39;00m parse_float \u001b[38;5;129;01mis\u001b[39;00m \u001b[38;5;28;01mNone\u001b[39;00m \u001b[38;5;129;01mand\u001b[39;00m\n\u001b[32m    345\u001b[39m         parse_constant \u001b[38;5;129;01mis\u001b[39;00m \u001b[38;5;28;01mNone\u001b[39;00m \u001b[38;5;129;01mand\u001b[39;00m object_pairs_hook \u001b[38;5;129;01mis\u001b[39;00m \u001b[38;5;28;01mNone\u001b[39;00m \u001b[38;5;129;01mand\u001b[39;00m \u001b[38;5;129;01mnot\u001b[39;00m kw):\n\u001b[32m--> \u001b[39m\u001b[32m346\u001b[39m     \u001b[38;5;28;01mreturn\u001b[39;00m \u001b[43m_default_decoder\u001b[49m\u001b[43m.\u001b[49m\u001b[43mdecode\u001b[49m\u001b[43m(\u001b[49m\u001b[43ms\u001b[49m\u001b[43m)\u001b[49m\n\u001b[32m    347\u001b[39m \u001b[38;5;28;01mif\u001b[39;00m \u001b[38;5;28mcls\u001b[39m \u001b[38;5;129;01mis\u001b[39;00m \u001b[38;5;28;01mNone\u001b[39;00m:\n\u001b[32m    348\u001b[39m     \u001b[38;5;28mcls\u001b[39m = JSONDecoder\n",
      "\u001b[36mFile \u001b[39m\u001b[32m~\\AppData\\Local\\Programs\\Python\\Python312\\Lib\\json\\decoder.py:337\u001b[39m, in \u001b[36mJSONDecoder.decode\u001b[39m\u001b[34m(self, s, _w)\u001b[39m\n\u001b[32m    332\u001b[39m \u001b[38;5;28;01mdef\u001b[39;00m\u001b[38;5;250m \u001b[39m\u001b[34mdecode\u001b[39m(\u001b[38;5;28mself\u001b[39m, s, _w=WHITESPACE.match):\n\u001b[32m    333\u001b[39m \u001b[38;5;250m    \u001b[39m\u001b[33;03m\"\"\"Return the Python representation of ``s`` (a ``str`` instance\u001b[39;00m\n\u001b[32m    334\u001b[39m \u001b[33;03m    containing a JSON document).\u001b[39;00m\n\u001b[32m    335\u001b[39m \n\u001b[32m    336\u001b[39m \u001b[33;03m    \"\"\"\u001b[39;00m\n\u001b[32m--> \u001b[39m\u001b[32m337\u001b[39m     obj, end = \u001b[38;5;28;43mself\u001b[39;49m\u001b[43m.\u001b[49m\u001b[43mraw_decode\u001b[49m\u001b[43m(\u001b[49m\u001b[43ms\u001b[49m\u001b[43m,\u001b[49m\u001b[43m \u001b[49m\u001b[43midx\u001b[49m\u001b[43m=\u001b[49m\u001b[43m_w\u001b[49m\u001b[43m(\u001b[49m\u001b[43ms\u001b[49m\u001b[43m,\u001b[49m\u001b[43m \u001b[49m\u001b[32;43m0\u001b[39;49m\u001b[43m)\u001b[49m\u001b[43m.\u001b[49m\u001b[43mend\u001b[49m\u001b[43m(\u001b[49m\u001b[43m)\u001b[49m\u001b[43m)\u001b[49m\n\u001b[32m    338\u001b[39m     end = _w(s, end).end()\n\u001b[32m    339\u001b[39m     \u001b[38;5;28;01mif\u001b[39;00m end != \u001b[38;5;28mlen\u001b[39m(s):\n",
      "\u001b[36mFile \u001b[39m\u001b[32m~\\AppData\\Local\\Programs\\Python\\Python312\\Lib\\json\\decoder.py:355\u001b[39m, in \u001b[36mJSONDecoder.raw_decode\u001b[39m\u001b[34m(self, s, idx)\u001b[39m\n\u001b[32m    353\u001b[39m     obj, end = \u001b[38;5;28mself\u001b[39m.scan_once(s, idx)\n\u001b[32m    354\u001b[39m \u001b[38;5;28;01mexcept\u001b[39;00m \u001b[38;5;167;01mStopIteration\u001b[39;00m \u001b[38;5;28;01mas\u001b[39;00m err:\n\u001b[32m--> \u001b[39m\u001b[32m355\u001b[39m     \u001b[38;5;28;01mraise\u001b[39;00m JSONDecodeError(\u001b[33m\"\u001b[39m\u001b[33mExpecting value\u001b[39m\u001b[33m\"\u001b[39m, s, err.value) \u001b[38;5;28;01mfrom\u001b[39;00m\u001b[38;5;250m \u001b[39m\u001b[38;5;28;01mNone\u001b[39;00m\n\u001b[32m    356\u001b[39m \u001b[38;5;28;01mreturn\u001b[39;00m obj, end\n",
      "\u001b[31mJSONDecodeError\u001b[39m: Expecting value: line 1 column 1 (char 0)"
     ]
    }
   ],
   "source": []
  },
  {
   "cell_type": "code",
   "execution_count": 19,
   "metadata": {},
   "outputs": [],
   "source": [
    "from IPython.display import clear_output\n"
   ]
  },
  {
   "cell_type": "code",
   "execution_count": 53,
   "metadata": {},
   "outputs": [
    {
     "data": {
      "text/plain": [
       "'```json\\n{\\n  \"topic\": \"A 2020-as matematika tankönyv tartalma és szerkezete\",\\n  \"questions\": [\\n    {\\n      \"question\": \"Mikor jelent meg a tankönyv?\",\\n      \"options\": [\"a. 2017\", \"b. 2020\", \"c. 201'"
      ]
     },
     "execution_count": 53,
     "metadata": {},
     "output_type": "execute_result"
    }
   ],
   "source": [
    "response"
   ]
  },
  {
   "cell_type": "code",
   "execution_count": null,
   "metadata": {},
   "outputs": [],
   "source": []
  }
 ],
 "metadata": {
  "kernelspec": {
   "display_name": ".venv",
   "language": "python",
   "name": "python3"
  },
  "language_info": {
   "codemirror_mode": {
    "name": "ipython",
    "version": 3
   },
   "file_extension": ".py",
   "mimetype": "text/x-python",
   "name": "python",
   "nbconvert_exporter": "python",
   "pygments_lexer": "ipython3",
   "version": "3.12.0"
  }
 },
 "nbformat": 4,
 "nbformat_minor": 2
}
