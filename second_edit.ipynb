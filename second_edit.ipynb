{
 "cells": [
  {
   "cell_type": "code",
   "execution_count": null,
   "metadata": {},
   "outputs": [],
   "source": [
    "import fitz\n",
    "from haystack.components.builders import PromptBuilder\n",
    "from openai import OpenAI\n",
    "from env_params import openrouter_api_key\n",
    "import json\n",
    "from IPython.display import clear_output\n",
    "\n",
    "\n",
    "quiz_generation_template = \"\"\"Given the following text, create {{no_questions}} multiple choice quizzes in JSON format.\n",
    "Each question should have 4 different options, and only one of them should be correct.\n",
    "The questions should be {{question_level}}.\n",
    "Each question should increase in difficulty.\n",
    "Each question should be independent of the others.\n",
    "Each question should be based on the text provided.\n",
    "Each question should be clear and concise.\n",
    "The options should be unambiguous.\n",
    "Each option should begin with a letter followed by a period and a space (e.g., \"a. option\").\n",
    "The question should also briefly mention the general topic of the text so that it can be understood in isolation.\n",
    "Each question should not give hints to answer the other questions.\n",
    "Include challenging questions, which require reasoning.\n",
    "\n",
    "respond with JSON only, no markdown or descriptions.\n",
    "\n",
    "example JSON format you should absolutely follow:\n",
    "{\"topic\": \"a sentence explaining the topic of the text\",\n",
    " \"questions\":\n",
    "  [\n",
    "    {\n",
    "      \"question\": \"text of the question\",\n",
    "      \"options\": [\"a. 1st option\", \"b. 2nd option\", \"c. 3rd option\", \"d. 4th option\"],\n",
    "      \"right_option\": \"c\"  # letter of the right option (\"a\" for the first, \"b\" for the second, etc.)\n",
    "    }, ...\n",
    "  ]\n",
    "}\n",
    "\n",
    "\n",
    "text:\n",
    "{% for doc in documents %}{{ doc.content|truncate(1000000) }}{% endfor %}\n",
    "\"\"\"\n",
    "\n",
    "\n",
    "def get_question_level():\n",
    "    got_answer = False\n",
    "    while not got_answer:\n",
    "        try:\n",
    "            question_level = input(\"Enter the question level (easy (e), medium (m), hard (h)): \")\n",
    "            if question_level.lower() in ['easy','medium','hard','e','m','h']:\n",
    "                got_answer = True\n",
    "            else:\n",
    "                print(\"Please enter a valid question level\")\n",
    "        except ValueError:\n",
    "            print(\"Please enter a valid question level\")\n",
    "    if question_level.lower() == 'easy' or question_level.lower() == 'e':\n",
    "        question_level = \"easy\"\n",
    "    elif question_level.lower() == 'medium' or question_level.lower() == 'm':\n",
    "        question_level = \"medium\"\n",
    "    else:\n",
    "        question_level = \"hard\"\n",
    "    return question_level\n",
    "\n",
    "def read_pdf(pdf_path):\n",
    "    pdf_document = fitz.open(pdf_path)\n",
    "    text = \"\"\n",
    "    for page_number in range(len(pdf_document)):\n",
    "        page = pdf_document.load_page(page_number)\n",
    "        text += page.get_text()\n",
    "    return text\n",
    "\n",
    "def get_list_of_documents(documents_paths):\n",
    "    document_list = []\n",
    "    for document in documents_paths:\n",
    "        document_list.append({'content':read_pdf(document)})\n",
    "    return document_list\n",
    "\n",
    "def get_number_of_questions():\n",
    "    got_answer = False\n",
    "    while not got_answer:\n",
    "        try:\n",
    "            no_questions = int(input(\"Enter the number of questions: \"))\n",
    "            got_answer = True\n",
    "        except ValueError:\n",
    "            print(\"Please enter a number\")\n",
    "    return no_questions\n",
    "\n",
    "def get_path_for_documents():\n",
    "    got_answer = False\n",
    "    while not got_answer:\n",
    "        try:\n",
    "            documents_paths = input(\"Enter the path of the documents separated by a space: \").split()\n",
    "            got_answer = True\n",
    "        except ValueError:\n",
    "            print(\"Please enter a valid path\")\n",
    "    return documents_paths\n",
    "\n",
    "def create_prompt():\n",
    "    documents_paths = get_path_for_documents()\n",
    "    no_questions = get_number_of_questions()\n",
    "    question_level = get_question_level()\n",
    "    documents = get_list_of_documents(documents_paths)\n",
    "    builder = PromptBuilder(\n",
    "    template=quiz_generation_template,\n",
    "    required_variables=[\"documents\",\"no_questions\",\"question_level\"]\n",
    "    )\n",
    "    return builder.run(documents=documents, no_questions=no_questions, question_level=question_level)\n",
    "\n",
    "def call_openrouter(openrouter_api_key, prompt):\n",
    "    print(\"Please wait a few seconds for the response (average is 20 seconds)\")\n",
    "    client = OpenAI(\n",
    "    base_url=\"https://openrouter.ai/api/v1\",\n",
    "    api_key=openrouter_api_key,\n",
    "    )\n",
    "    completion = client.chat.completions.create(\n",
    "    model=\"deepseek/deepseek-r1-distill-llama-70b:free\",\n",
    "    messages=[\n",
    "        {\n",
    "        \"role\": \"user\",\n",
    "        \"content\": prompt['prompt']\n",
    "        }\n",
    "    ]\n",
    "    )\n",
    "    try:\n",
    "        return completion.choices[0].message.content.replace('```json','').replace('```','').replace('```','')\n",
    "    except:\n",
    "        return completion.choices[0].message.content\n",
    "\n",
    "import json\n",
    "def answer_questions(response):\n",
    "    correct_answer = 0\n",
    "    response = json.loads(response)\n",
    "    print(response['topic'])\n",
    "    for question in response['questions']:\n",
    "        applicable_options = [\"a\", \"b\", \"c\", \"d\"]\n",
    "        got_answer = False\n",
    "        while not got_answer:\n",
    "            print(question['question'])\n",
    "            for option in question['options']:\n",
    "                print(option)\n",
    "            answer = input(\"Enter the right option: \").lower()\n",
    "            if answer in applicable_options:\n",
    "                got_answer = True\n",
    "            else:\n",
    "                #clear_output(wait = True)\n",
    "                #print('',flush=True)\n",
    "                print(\"Please enter a valid option\")\n",
    "        #clear_output(wait = True)\n",
    "        #print('',flush=True)\n",
    "        if answer == question['right_option']:\n",
    "            print(\"Correct!\\n\")\n",
    "            correct_answer += 1\n",
    "        else:\n",
    "            print(f\"Wrong! The right option is {question['right_option']}\\n\")\n",
    "\n",
    "    \n",
    "    print(f\"Your score is {correct_answer}/{len(response['questions'])}\")"
   ]
  },
  {
   "cell_type": "code",
   "execution_count": null,
   "metadata": {},
   "outputs": [],
   "source": [
    "example_data/1.pdf"
   ]
  },
  {
   "cell_type": "code",
   "execution_count": null,
   "metadata": {},
   "outputs": [],
   "source": [
    "prompt = create_prompt()\n",
    "print('A')\n",
    "response = call_openrouter(openrouter_api_key, prompt)\n",
    "#answer_questions(response)\n",
    "\n"
   ]
  },
  {
   "cell_type": "code",
   "execution_count": null,
   "metadata": {},
   "outputs": [],
   "source": [
    "response"
   ]
  },
  {
   "cell_type": "code",
   "execution_count": null,
   "metadata": {},
   "outputs": [],
   "source": [
    "with open('3_h.txt', 'w', encoding='utf-8') as output:\n",
    "    output.write(response)"
   ]
  },
  {
   "cell_type": "code",
   "execution_count": null,
   "metadata": {},
   "outputs": [],
   "source": [
    "answer_questions(response)"
   ]
  },
  {
   "cell_type": "code",
   "execution_count": null,
   "metadata": {},
   "outputs": [],
   "source": [
    "answer_questions(response)"
   ]
  },
  {
   "cell_type": "code",
   "execution_count": null,
   "metadata": {},
   "outputs": [],
   "source": [
    "\n",
    "def answer_questions(response):\n",
    "    correct_answer = 0\n",
    "    response = json.loads(response)\n",
    "    print(response['topic'])\n",
    "    for question in response['questions']:\n",
    "        applicable_options = [\"a\", \"b\", \"c\", \"d\"]\n",
    "        got_answer = False\n",
    "        while not got_answer:\n",
    "            print(question['question'])\n",
    "            for option in question['options']:\n",
    "                print(option)\n",
    "            answer = input(\"Enter the right option: \").lower()\n",
    "            if answer in applicable_options:\n",
    "                got_answer = True\n",
    "            else:\n",
    "                #clear_output(wait = True)\n",
    "                #print('',flush=True)\n",
    "                print(\"Please enter a valid option\")\n",
    "        #clear_output(wait = True)\n",
    "        #print('',flush=True)\n",
    "        if answer == question['right_option']:\n",
    "            print(\"Correct!\\n\")\n",
    "            correct_answer += 1\n",
    "        else:\n",
    "            print(f\"Wrong! The right option is {question['right_option']}\\n\")\n",
    "\n",
    "    \n",
    "    print(f\"Your score is {correct_answer}/{len(response['questions'])}\")\n",
    "\n",
    "answer_questions(response)"
   ]
  },
  {
   "cell_type": "code",
   "execution_count": null,
   "metadata": {},
   "outputs": [],
   "source": [
    "no_questions"
   ]
  },
  {
   "cell_type": "code",
   "execution_count": null,
   "metadata": {},
   "outputs": [],
   "source": [
    "example_data/square_root.pdf example_data/Arithmetic_and_algebra.pdf"
   ]
  },
  {
   "cell_type": "code",
   "execution_count": null,
   "metadata": {},
   "outputs": [],
   "source": [
    "json.loads(response.choices[0].message.content)#[-100:]"
   ]
  },
  {
   "cell_type": "code",
   "execution_count": null,
   "metadata": {},
   "outputs": [],
   "source": [
    "print(response.choices[0].message.content)\n",
    "response.choices[0].message.content.replace('```json','').replace('```','').replace('```','')\n",
    "```\n"
   ]
  },
  {
   "cell_type": "code",
   "execution_count": null,
   "metadata": {},
   "outputs": [],
   "source": []
  },
  {
   "cell_type": "code",
   "execution_count": null,
   "metadata": {},
   "outputs": [],
   "source": [
    "#response_save = response.copy()#\n",
    "response = response.choices[0].message.content\n"
   ]
  },
  {
   "cell_type": "code",
   "execution_count": null,
   "metadata": {},
   "outputs": [],
   "source": [
    "list_of_easy_questions = []\n",
    "list_of_medium_questions = []\n",
    "list_of_hard_questions = []\n",
    "for i in json.loads(response):\n",
    "        list_of_easy_questions.append(i)"
   ]
  },
  {
   "cell_type": "code",
   "execution_count": null,
   "metadata": {},
   "outputs": [],
   "source": []
  },
  {
   "cell_type": "code",
   "execution_count": null,
   "metadata": {},
   "outputs": [],
   "source": []
  },
  {
   "cell_type": "code",
   "execution_count": null,
   "metadata": {},
   "outputs": [],
   "source": [
    "from IPython.display import clear_output\n"
   ]
  },
  {
   "cell_type": "code",
   "execution_count": null,
   "metadata": {},
   "outputs": [],
   "source": [
    "response"
   ]
  },
  {
   "cell_type": "code",
   "execution_count": null,
   "metadata": {},
   "outputs": [],
   "source": []
  }
 ],
 "metadata": {
  "kernelspec": {
   "display_name": ".venv",
   "language": "python",
   "name": "python3"
  },
  "language_info": {
   "codemirror_mode": {
    "name": "ipython",
    "version": 3
   },
   "file_extension": ".py",
   "mimetype": "text/x-python",
   "name": "python",
   "nbconvert_exporter": "python",
   "pygments_lexer": "ipython3",
   "version": "3.12.0"
  }
 },
 "nbformat": 4,
 "nbformat_minor": 2
}
